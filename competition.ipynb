{
 "cells": [
  {
   "cell_type": "markdown",
   "metadata": {
    "slideshow": {
     "slide_type": "slide"
    }
   },
   "source": [
    "# Seizure Prediction Kaggle Competition\n",
    "\n",
    "## Melbourne University, MathWorks, and NIH \n",
    "\n",
    "#### [ATOM] 30 May, 2017"
   ]
  },
  {
   "cell_type": "markdown",
   "metadata": {
    "slideshow": {
     "slide_type": "slide"
    }
   },
   "source": [
    "# Epilepsy\n",
    "\n",
    "Epilepsy is a neurological condition characterised by spontaneous seizures. Epilepsy affects around 1% of the world."
   ]
  },
  {
   "cell_type": "markdown",
   "metadata": {
    "slideshow": {
     "slide_type": "fragment"
    }
   },
   "source": [
    "Seizures are caused by abnormal synchronous activity in the brain."
   ]
  },
  {
   "cell_type": "markdown",
   "metadata": {
    "slideshow": {
     "slide_type": "fragment"
    }
   },
   "source": [
    "Medication exists, but causes uncomfortable side effects. For 20 - 40% of individuals, medication is ineffective. People with epilepsy can sometimes resort to surgery, though sometimes this doesn't fix anything."
   ]
  },
  {
   "cell_type": "markdown",
   "metadata": {
    "slideshow": {
     "slide_type": "fragment"
    }
   },
   "source": [
    "This leads to poor quality of life, and anxiety. Driving, swimming, many every day activities are difficult."
   ]
  },
  {
   "cell_type": "markdown",
   "metadata": {
    "slideshow": {
     "slide_type": "subslide"
    }
   },
   "source": [
    "# Predicting epileptic seizures\n",
    "\n",
    "If seizures could be predicted, quick-acting medication can be taken before a seizure, or dangerous activities could be avoided. Patients can be implanted with early warning systems."
   ]
  },
  {
   "cell_type": "markdown",
   "metadata": {
    "slideshow": {
     "slide_type": "fragment"
    }
   },
   "source": [
    "Epilepsy is typically diagnosed using electroencephalography. EEG records electrical activity on the surface of the brain using electrodes placed on the scalp or directly on the cortex.\n",
    "\n",
    "<img src=\"images/eeg.png\" width=\"600px\" />"
   ]
  },
  {
   "cell_type": "markdown",
   "metadata": {
    "slideshow": {
     "slide_type": "subslide"
    }
   },
   "source": [
    "# EEG data\n",
    "\n",
    "<img src=\"images/epileptiform_eeg.png\" width=\"800px\" />"
   ]
  },
  {
   "cell_type": "markdown",
   "metadata": {
    "slideshow": {
     "slide_type": "fragment"
    }
   },
   "source": [
    "EEG is a great tool to see seizures happening. Abnormal activity begins a long time prior to external symptoms."
   ]
  },
  {
   "cell_type": "markdown",
   "metadata": {
    "slideshow": {
     "slide_type": "slide"
    }
   },
   "source": [
    "# The competition\n",
    "\n",
    "### Melbourne University AES / MathWorks / NIH Seizure Prediction\n",
    "\n",
    "- Began 2 September, ended 1 December.\n",
    "- Prizes : \\$10k, \\$6k, \\$4k"
   ]
  },
  {
   "cell_type": "markdown",
   "metadata": {
    "slideshow": {
     "slide_type": "fragment"
    }
   },
   "source": [
    "<div align=\"center\"><h3>Predict seizures in long-term human intracranial EEG recordings</h3></div>"
   ]
  },
  {
   "cell_type": "markdown",
   "metadata": {
    "slideshow": {
     "slide_type": "subslide"
    }
   },
   "source": [
    "# Technicalities\n",
    "\n",
    "The **data** : ten-minute recordings of iEEG ( a number of complications ).\n",
    "\n",
    "The **task** : produce probabilities that these chunks are preictal or interictal.\n",
    "\n",
    "The **metric** : area under the receiver operating characteristic curve ( AUC-ROC )."
   ]
  },
  {
   "cell_type": "markdown",
   "metadata": {
    "slideshow": {
     "slide_type": "slide"
    }
   },
   "source": [
    "# The data\n",
    "\n",
    "- three human participants\n",
    "- 16 electrode intracranial EEG at 400 Hz\n",
    "- recordings span months or years"
   ]
  },
  {
   "cell_type": "markdown",
   "metadata": {
    "slideshow": {
     "slide_type": "fragment"
    }
   },
   "source": [
    "- each hour is labelled *preictal*, *interictal*, *ictal*, and *postictal*\n",
    "- preictal are from within one hour of a seizure ( -1:05 to -0:05 before seizure )\n",
    "- interictal are at least four hours before and after any seizure"
   ]
  },
  {
   "cell_type": "markdown",
   "metadata": {
    "slideshow": {
     "slide_type": "subslide"
    }
   },
   "source": [
    "<img src=\"images/data_timing.png\" width=\"600px\" />"
   ]
  },
  {
   "cell_type": "markdown",
   "metadata": {
    "slideshow": {
     "slide_type": "subslide"
    }
   },
   "source": [
    "# Datapoints\n",
    "\n",
    "- come in ten minute chunks ( 240k points x 16 channels )\n",
    "- full hours are given ( 6 x 10-minute chunks ) but only for training data\n",
    "- are labelled by patient"
   ]
  },
  {
   "cell_type": "markdown",
   "metadata": {
    "slideshow": {
     "slide_type": "fragment"
    }
   },
   "source": [
    "### Problems with the data\n",
    "\n",
    "- may contain *dropout*, times when the electrodes fail\n",
    "- \"may also contain artifacts such as large amplitude rapid signal transitions that can be removed from analysis.\"\n",
    "- [data leak](https://www.kaggle.com/c/melbourne-university-seizure-prediction/discussion/24803) : \"the signal data of 1_145_1.mat - 1_150_1.mat and 1_1129_0.mat - 1_1134_0.mat are virtually identical, there is just a little time shift. The problem is that label is different.\""
   ]
  },
  {
   "cell_type": "markdown",
   "metadata": {
    "slideshow": {
     "slide_type": "subslide"
    }
   },
   "source": [
    "<img src=\"images/dropout.png\" width=\"800px\" />"
   ]
  },
  {
   "cell_type": "markdown",
   "metadata": {
    "slideshow": {
     "slide_type": "subslide"
    }
   },
   "source": [
    "# Data exploration\n",
    "\n",
    "<img src=\"images/all_channels.png\" width=\"800px\" />"
   ]
  },
  {
   "cell_type": "markdown",
   "metadata": {
    "slideshow": {
     "slide_type": "subslide"
    }
   },
   "source": [
    "<img src=\"images/ps_mean_signals.png\" width=\"800px\" />"
   ]
  },
  {
   "cell_type": "markdown",
   "metadata": {
    "slideshow": {
     "slide_type": "subslide"
    }
   },
   "source": [
    "<img src=\"images/mean_across_channels.png\" width=\"800px\" />"
   ]
  },
  {
   "cell_type": "markdown",
   "metadata": {
    "slideshow": {
     "slide_type": "slide"
    }
   },
   "source": [
    "# The winning team\n",
    "\n",
    "### Team Not-So-Random-Anymore\n",
    "\n",
    "This team consisted of four people. They submitted 260 entries, and finished with an AUC-ROC score of 0.80701.\n",
    "\n",
    "See their [interview](http://blog.kaggle.com/2017/02/06/seizure-prediction-competition-first-place-winners-interview-team-not-so-random-anymore-andriy-alexandre-feng-gilberto/) and their [winning forum post](https://www.kaggle.com/c/melbourne-university-seizure-prediction/discussion/26310)."
   ]
  },
  {
   "cell_type": "markdown",
   "metadata": {
    "slideshow": {
     "slide_type": "fragment"
    }
   },
   "source": [
    "### For comparison...\n",
    "\n",
    "My team came in 83rd ( top 20%, bronze ), with an AUC-ROC of 0.71441."
   ]
  },
  {
   "cell_type": "markdown",
   "metadata": {
    "slideshow": {
     "slide_type": "subslide"
    }
   },
   "source": [
    "# Members of the team\n",
    "\n",
    "**Alex**\n",
    "\n",
    "- PhD in signal processing\n",
    "- EEG / BCI specialist\n",
    "- won 3 other EEG competitions on Kaggle...\n",
    "\n",
    "**Gilberto**\n",
    "\n",
    "- MSc Electrical Engineering and Telecoms\n",
    "\n",
    "**Feng** \n",
    "\n",
    "- BSc Statistics\n",
    "- at the time, doing MSc in Data Science\n",
    "\n",
    "**Andriy**\n",
    "\n",
    "- PhD in signal processing\n",
    "- Electrical engineer, experience with biomedical signals"
   ]
  },
  {
   "cell_type": "markdown",
   "metadata": {
    "slideshow": {
     "slide_type": "slide"
    }
   },
   "source": [
    "# The winning solution\n",
    "\n",
    "Team members made their own models, with their own features. The winning solution is the ranked average of the predictions of eleven models, \"to avoid overfitting\". All models are patient-specific.\n",
    "\n",
    "Their primary tools were Python, Matlab, and R. Key machine learning modules were scikit-learn and XGBoost.\n",
    "\n",
    "They reviewed the top ten entries from the last two competitions for inspiration. They mostly trained a bunch of classifiers : XGB, SVC, KNN, LR.\n",
    "\n",
    "Their code is available [here](https://github.com/alexandrebarachant/kaggle-seizure-prediction-challenge-2016)."
   ]
  },
  {
   "cell_type": "markdown",
   "metadata": {
    "slideshow": {
     "slide_type": "subslide"
    }
   },
   "source": [
    "# Tackling the data\n",
    "\n",
    "Their insight into the data :\n",
    "\n",
    "> The dataset is small and noisy, and cross-validation is difficult. Diversity in the ensemble is the key. We opted for many simple and low performing models rather than hyperoptimising one good model.\n",
    "\n",
    "This is classic ensembling theory."
   ]
  },
  {
   "cell_type": "markdown",
   "metadata": {
    "slideshow": {
     "slide_type": "slide"
    }
   },
   "source": [
    "# Models : Alex and Gilberto\n",
    "\n",
    "- split data into 30 non-overlapping 20s segments\n",
    "- for prediction, use the maximum probability of 20s segments\n",
    "\n",
    "#### Model 1 : normalised log power in different frequency bands\n",
    "\n",
    "- frequencies : 0.1 - 4 Hz; 4 - 8 Hz; 8 - 15 Hz; 15 - 30 Hz; 30 - 90 Hz; 90 - 170 Hz\n",
    "- power spectral density was averaged over each channel, then normalised by total power\n",
    "- 6 frequency bands and 16 channels = 96 features\n",
    "- XGBoost, ten bags\n",
    "\n",
    "#### Model 2 : relative log power, plus a bunch of signal statistics\n",
    "\n",
    "- summary statistics : mean, min, max, var, percentiles\n",
    "- autoregressive error coefficient, fractal dimensions, Hurst exponents\n",
    "- 21 x 16 channels = 336 features\n",
    "- XGBoost, five bags\n"
   ]
  },
  {
   "cell_type": "markdown",
   "metadata": {
    "slideshow": {
     "slide_type": "subslide"
    }
   },
   "source": [
    "#### Model 3 : autocorrelation in tangent space\n",
    "\n",
    "- start with autocorrelation matrix for each channel\n",
    "- project into Riemannian tangent space\n",
    "- vectorise to produce a 36-long vector \n",
    "- 36 x 16 channels = 576 features\n",
    "- XGBoost, four bags\n",
    "\n",
    "#### Model 4 : cross-frequency coherence\n",
    "\n",
    "- for the six frequency bands above, calculate cross-frequency coherence for all channels\n",
    "- results in 6 x 6 coherence matrices\n",
    "- project to tangent space and vectorise\n",
    "- 21 x 16 = 336 features\n",
    "- XGBoost, ten bags"
   ]
  },
  {
   "cell_type": "markdown",
   "metadata": {
    "slideshow": {
     "slide_type": "subslide"
    }
   },
   "source": [
    "# Models : Feng\n",
    "\n",
    "- preprocessing : Butterworth bandpass filter 0.1 - 180 Hz\n",
    "- split data into nonoverlapping 30s windows\n",
    "- arithmetic mean of individual windows used to aggregate into a probability score for 10-min segments\n",
    "\n",
    "#### Features\n",
    "\n",
    "- Features 1 : std and PSD averaged over 0.1 - 4 Hz, 4 - 8 Hz, 8 - 12 Hz, 12 - 30 Hz, 30 - 70 Hz, and 70 - 180 Hz\n",
    "- Features 2 : time and frequency domain correlations and their eigenvalues.\n",
    "\n",
    "#### Models\n",
    "\n",
    "- Model 1 : XGBoost on F1\n",
    "- Model 2 : *k*-nearest neighbours on F1\n",
    "- Model 3 : *k*-nearest neighbours on F1 + F2\n",
    "- Model 4 : logistic regression with L2 penalty on F1 + F2\n",
    "\n",
    "A quick remark : a weighted blending of M1, M2 and M4 could get 0.8+ AUC"
   ]
  },
  {
   "cell_type": "markdown",
   "metadata": {
    "slideshow": {
     "slide_type": "subslide"
    }
   },
   "source": [
    "# Models : Andriy\n",
    "\n",
    "- preprocessing : demeaning, bandpass filter 0.5 - 128 Hz, downsampling to 256 Hz\n",
    "- split datainto 30s segments\n",
    "- max probability used for 10-min chunks\n",
    "\n",
    "#### Features\n",
    "\n",
    "- for each EEG channel, 111 features extracted from time, frequency, information-theoretic domains to capture energy, frequency, temporal and structural info as generic descriptions of the EEG signals\n",
    "- peak frequency of spectrum, spectral edge frequency (80%, 90%, 95%), fine spectral log-filterbank energies in 2 Hz width sub-bands (0-2Hz, 1-3Hz, ...30-32Hz), coarse log filterbank energies in delta, theta, alpha, beta, gamma frequency bands, normalised FBE in those sub-bands, wavelet energy, curve length, Number of maxima and minima, RMS amplitude, Hjorth parameters, Zero crossings (raw epoch, Δ, ΔΔ), Skewness, Kurtosis, Nonlinear energy, Variance (Δ, ΔΔ), Mean frequency, band-width, Shannon entropy, Singular value decomposition entropy, Fisher information, Spectral entropy, Autoregressive modelling error (model order 1-9). \n",
    "- these led to 111 x 16 = 1776 features in a concatenated feature vector\n",
    "- additional multivariate features\n",
    "- total features : 1956\n",
    "\n",
    "#### Models\n",
    "\n",
    "- Model 1 : All features, bagged XGBoost\n",
    "- Model 2 : Linear SVM with top 300 features\n",
    "- Model 3 : GLM with top 200 models"
   ]
  },
  {
   "cell_type": "markdown",
   "metadata": {
    "slideshow": {
     "slide_type": "subslide"
    }
   },
   "source": [
    "<img src=\"images/model_correlations.png\" width=\"600px\" />"
   ]
  },
  {
   "cell_type": "markdown",
   "metadata": {
    "slideshow": {
     "slide_type": "slide"
    }
   },
   "source": [
    "# Cross-validation\n",
    "\n",
    "Ten-minute segments that are sometimes sequential must be kept in the same CV train-test set.\n",
    "\n",
    "Training and testing data were recorded at different times, and emulating this in CV is impossible. \n",
    "\n",
    "The leak ( and release of more data ) caused further problems with cross-validation."
   ]
  },
  {
   "cell_type": "markdown",
   "metadata": {
    "slideshow": {
     "slide_type": "fragment"
    }
   },
   "source": [
    "60% of their time was spent on building a good CV procedure.\n",
    "\n",
    "Because CV was hard, their approach was to extract as many features as possible, build as many models as possible, and pick the ones that were diverse and robust.\n",
    "\n",
    "In the end, they had **2-fold** and **26-fold** cross-validation methods."
   ]
  },
  {
   "cell_type": "markdown",
   "metadata": {
    "slideshow": {
     "slide_type": "slide"
    }
   },
   "source": [
    "# Submission\n",
    "\n",
    "> We believed the public leaderboard to be very overfitted (including our best public score) and that the private score will settle down around 0.8 AUC. We decided to minimize our risk by choosing as one of our final submissions a very conservative ensemble, tailored to be stable. It was a difficult choice, the public score of this ensemble was around 0.81 while our best score was 0.85. Luckily enough, our prediction was right and everyone went below 0.8 AUC on the private LB except for our stable ensemble that barely moved."
   ]
  },
  {
   "cell_type": "markdown",
   "metadata": {
    "slideshow": {
     "slide_type": "subslide"
    }
   },
   "source": [
    "<img src=\"images/bios.png\" width=\"900px\" />"
   ]
  },
  {
   "cell_type": "markdown",
   "metadata": {
    "slideshow": {
     "slide_type": "slide"
    }
   },
   "source": [
    "# Ensembling - a few resources\n",
    "\n",
    "- [Ensembling](https://en.wikipedia.org/wiki/Ensemble_learning) on Wikipedia\n",
    "- Excellent [Kaggle Ensembling Guide](https://mlwave.com/kaggle-ensembling-guide/)\n",
    "- [Overview of ensemble methods](https://www.toptal.com/machine-learning/ensemble-methods-machine-learning)\n",
    "- [Bagging](https://en.wikipedia.org/wiki/Bootstrap_aggregating) on Wikipedia\n",
    "- [Boosting](https://en.wikipedia.org/wiki/Boosting_&#40;machine_learning&#41;) on Wikipedia"
   ]
  }
 ],
 "metadata": {
  "celltoolbar": "Slideshow",
  "kernelspec": {
   "display_name": "Python [default]",
   "language": "python",
   "name": "python3"
  },
  "language_info": {
   "codemirror_mode": {
    "name": "ipython",
    "version": 3
   },
   "file_extension": ".py",
   "mimetype": "text/x-python",
   "name": "python",
   "nbconvert_exporter": "python",
   "pygments_lexer": "ipython3",
   "version": "3.6.0"
  }
 },
 "nbformat": 4,
 "nbformat_minor": 2
}
